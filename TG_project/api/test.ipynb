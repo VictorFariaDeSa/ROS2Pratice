{
 "cells": [
  {
   "cell_type": "code",
   "execution_count": 1,
   "metadata": {},
   "outputs": [],
   "source": [
    "# simRemoteApi.start(19999)\n",
    "try:\n",
    "    import sim\n",
    "except:\n",
    "    print ('--------------------------------------------------------------')\n",
    "    print ('\"sim.py\" could not be imported. This means very probably that')\n",
    "    print ('either \"sim.py\" or the remoteApi library could not be found.')\n",
    "    print ('Make sure both are in the same folder as this file,')\n",
    "    print ('or appropriately adjust the file \"sim.py\"')\n",
    "    print ('--------------------------------------------------------------')\n",
    "    print ('')\n",
    "\n",
    "import time\n",
    "import random"
   ]
  },
  {
   "cell_type": "code",
   "execution_count": 19,
   "metadata": {},
   "outputs": [
    {
     "name": "stdout",
     "output_type": "stream",
     "text": [
      "Program started\n",
      "Connected to remote API server\n"
     ]
    }
   ],
   "source": [
    "sim.simxFinish(-1)\n",
    "print ('Program started')\n",
    "sim.simxFinish(-1) # just in case, close all opened connections\n",
    "clientID=sim.simxStart('127.0.0.1',19999,True,True,5000,5) # Connect to CoppeliaSim\n",
    "if clientID!=-1:\n",
    "    print ('Connected to remote API server')"
   ]
  },
  {
   "cell_type": "code",
   "execution_count": 16,
   "metadata": {},
   "outputs": [
    {
     "name": "stdout",
     "output_type": "stream",
     "text": [
      "Robot: 0\n",
      " Target:0\n"
     ]
    }
   ],
   "source": [
    "robotname = 'Doggy'\n",
    "robotErro, robot = sim.simxGetObjectHandle(clientID, robotname, sim.simx_opmode_oneshot_wait)\n",
    "targetErro, target = sim.simxGetObjectHandle(clientID, \"Target\", sim.simx_opmode_oneshot_wait)\n",
    "print(f\"Robot: {robotErro}\\n Target:{targetErro}\")"
   ]
  },
  {
   "cell_type": "code",
   "execution_count": 26,
   "metadata": {},
   "outputs": [
    {
     "data": {
      "text/plain": [
       "0.35429076523079484"
      ]
     },
     "execution_count": 26,
     "metadata": {},
     "output_type": "execute_result"
    }
   ],
   "source": [
    "[erro, robot_RR_upper_motor] = sim.simxGetObjectHandle(clientID, \"RR_upper_leg_joint\",sim.simx_opmode_oneshot_wait)\n",
    "[erro, robot_RR_lower_motor] = sim.simxGetObjectHandle(clientID, \"RR_lower_leg_joint\", sim.simx_opmode_oneshot_wait)\n",
    "    \n",
    "[erro, robot_RL_upper_motor] = sim.simxGetObjectHandle(clientID, \"RL_upper_leg_joint\",sim.simx_opmode_oneshot_wait)\n",
    "[erro, robot_RL_lower_motor] = sim.simxGetObjectHandle(clientID, \"RL_lower_leg_joint\", sim.simx_opmode_oneshot_wait)\n",
    "\n",
    "[erro, robot_FR_upper_motor] = sim.simxGetObjectHandle(clientID, \"FR_upper_leg_joint\",sim.simx_opmode_oneshot_wait)\n",
    "[erro, robot_FR_lower_motor] = sim.simxGetObjectHandle(clientID, \"FR_lower_leg_joint\", sim.simx_opmode_oneshot_wait)\n",
    "\n",
    "[erro, robot_FL_upper_motor] = sim.simxGetObjectHandle(clientID, \"FL_upper_leg_joint\",sim.simx_opmode_oneshot_wait)\n",
    "[erro, robot_FL_lower_motor] = sim.simxGetObjectHandle(clientID, \"FL_lower_leg_joint\", sim.simx_opmode_oneshot_wait)\n",
    "\n",
    "sim.simxSetJointTargetVelocity(clientID, robot_RR_upper_motor, random.random()-0.5, sim.simx_opmode_oneshot)\n",
    "sim.simxSetJointTargetVelocity(clientID, robot_RR_lower_motor, random.random()-0.5, sim.simx_opmode_oneshot)\n",
    "\n",
    "sim.simxSetJointTargetVelocity(clientID, robot_RL_upper_motor, random.random()-0.5, sim.simx_opmode_oneshot)\n",
    "sim.simxSetJointTargetVelocity(clientID, robot_RL_lower_motor, random.random()-0.5, sim.simx_opmode_oneshot)\n",
    "\n",
    "sim.simxSetJointTargetVelocity(clientID, robot_FR_upper_motor, random.random()-0.5, sim.simx_opmode_oneshot)\n",
    "sim.simxSetJointTargetVelocity(clientID, robot_FR_lower_motor, random.random()-0.5, sim.simx_opmode_oneshot)\n",
    "\n",
    "sim.simxSetJointTargetVelocity(clientID, robot_FL_upper_motor, random.random()-0.5, sim.simx_opmode_oneshot)\n",
    "sim.simxSetJointTargetVelocity(clientID, robot_FL_lower_motor, random.random()-0.5, sim.simx_opmode_oneshot)\n"
   ]
  },
  {
   "cell_type": "code",
   "execution_count": 20,
   "metadata": {},
   "outputs": [
    {
     "name": "stdout",
     "output_type": "stream",
     "text": [
      "[25.997024536132812, 0.001227197120897472, 0.34798774123191833]\n"
     ]
    }
   ],
   "source": [
    "erro, distance_vector = sim.simxGetObjectPosition(clientID,robot,target,sim.simx_opmode_oneshot_wait)\n",
    "print(distance_vector)"
   ]
  },
  {
   "cell_type": "markdown",
   "metadata": {},
   "source": [
    "# Neural network\n",
    "\n",
    "### Inputs: \n",
    "Velocidades e posições das 8 juntas - 16 inputs\n",
    "\n",
    "## Outputs:\n",
    "Novas velocidades para cada uma das 8 juntas - 8 outputs"
   ]
  },
  {
   "cell_type": "markdown",
   "metadata": {},
   "source": []
  },
  {
   "cell_type": "markdown",
   "metadata": {},
   "source": [
    "for epoch in range epochs:\n",
    "\n",
    "    model.train()\n",
    "    y_pred = model(x_train)\n",
    "    loss = loss_fn(y_pred,y_train)\n",
    "    optimizer.zero_grad()\n",
    "    loss.backward()\n",
    "    optimizer.step()\n",
    "    model.eval()\n"
   ]
  },
  {
   "cell_type": "code",
   "execution_count": 5,
   "metadata": {},
   "outputs": [
    {
     "data": {
      "text/plain": [
       "PosixPath('models/nome_do_modelo.pth')"
      ]
     },
     "execution_count": 5,
     "metadata": {},
     "output_type": "execute_result"
    }
   ],
   "source": [
    "from pathlib import Path\n",
    "\n",
    "MODEL_PATH = Path(\"models\")\n",
    "MODEL_PATH.mkdir(parents=True,exist_ok=True)\n",
    "\n",
    "MODEL_NAME = \"nome_do_modelo.pth\"\n",
    "MODEL_SAVE_PATH = MODEL_PATH/MODEL_NAME\n",
    "\n",
    "print(f\"Saving model to: {MODEL_SAVE_PATH}\")\n",
    "torch.save(obj=model.state_dict(),f=MODEL_SAVE_PATH)"
   ]
  },
  {
   "cell_type": "code",
   "execution_count": 8,
   "metadata": {},
   "outputs": [],
   "source": [
    "import torch\n",
    "from torch import nn\n",
    "import matplotlib.pyplot as plt\n"
   ]
  },
  {
   "cell_type": "code",
   "execution_count": 9,
   "metadata": {},
   "outputs": [
    {
     "name": "stdout",
     "output_type": "stream",
     "text": [
      "Using device: cuda\n"
     ]
    }
   ],
   "source": [
    "device = \"cuda\" if torch.cuda.is_available() else \"cpu\"\n",
    "print(f\"Using device: {device}\")"
   ]
  },
  {
   "cell_type": "code",
   "execution_count": 19,
   "metadata": {},
   "outputs": [
    {
     "data": {
      "text/plain": [
       "(tensor([[0.0000],\n",
       "         [0.0200],\n",
       "         [0.0400],\n",
       "         [0.0600],\n",
       "         [0.0800],\n",
       "         [0.1000],\n",
       "         [0.1200],\n",
       "         [0.1400],\n",
       "         [0.1600],\n",
       "         [0.1800]]),\n",
       " tensor([[0.3000],\n",
       "         [0.3140],\n",
       "         [0.3280],\n",
       "         [0.3420],\n",
       "         [0.3560],\n",
       "         [0.3700],\n",
       "         [0.3840],\n",
       "         [0.3980],\n",
       "         [0.4120],\n",
       "         [0.4260]]))"
      ]
     },
     "execution_count": 19,
     "metadata": {},
     "output_type": "execute_result"
    }
   ],
   "source": [
    "weight = 0.7\n",
    "bias = 0.3\n",
    "\n",
    "start = 0\n",
    "end = 1\n",
    "step = 0.02\n",
    "\n",
    "x = torch.arange(start,end,step).unsqueeze(dim=1)\n",
    "y = weight*x+bias\n",
    "\n",
    "x[:10],y[:10]\n"
   ]
  },
  {
   "cell_type": "code",
   "execution_count": 20,
   "metadata": {},
   "outputs": [
    {
     "data": {
      "text/plain": [
       "40"
      ]
     },
     "execution_count": 20,
     "metadata": {},
     "output_type": "execute_result"
    }
   ],
   "source": [
    "#Split data\n",
    "train_split = int(0.8*len(x))\n",
    "x_train,y_train = x[:train_split],y[:train_split]\n",
    "x_test,y_test = x[train_split:],y[train_split:]"
   ]
  },
  {
   "cell_type": "code",
   "execution_count": 21,
   "metadata": {},
   "outputs": [],
   "source": [
    "def plot_predicitions(train_data = x_train,\n",
    "                      train_labels=y_train,\n",
    "                      test_data = x_test,\n",
    "                      test_labels = y_test,\n",
    "                      predictions = None):\n",
    "    plt.figure(figsize=(10,7))\n",
    "\n",
    "    plt.scatter(train_data,train_labels,c=\"b\",s=4,label=\"Training data\")\n",
    "    plt.scatter(test_data,test_labels,c=\"g\",s=4,label=\"Testing data\")\n",
    "\n",
    "    if predictions is not None:\n",
    "        plt.scatter(test_data,predictions,c=\"r\",s=4,label=\"Predictions\")\n",
    "    plt.legend(prop={\"size\":14})"
   ]
  },
  {
   "cell_type": "code",
   "execution_count": 25,
   "metadata": {},
   "outputs": [],
   "source": [
    "class LinearRegressionModelV0(nn.Module):\n",
    "    def __init__(self):\n",
    "        super().__init__()\n",
    "        self.linear_layer = nn.Linear(in_features=1,\n",
    "                                      out_features=1)\n",
    "    def forward(self,x:torch.Tensor) -> torch.Tensor:\n",
    "        return self.linear_layer(x)"
   ]
  },
  {
   "cell_type": "code",
   "execution_count": 26,
   "metadata": {},
   "outputs": [
    {
     "data": {
      "text/plain": [
       "(LinearRegressionModelV0(\n",
       "   (linear_layer): Linear(in_features=1, out_features=1, bias=True)\n",
       " ),\n",
       " OrderedDict([('linear_layer.weight', tensor([[0.7645]])),\n",
       "              ('linear_layer.bias', tensor([0.8300]))]))"
      ]
     },
     "execution_count": 26,
     "metadata": {},
     "output_type": "execute_result"
    }
   ],
   "source": [
    "torch.manual_seed(42)\n",
    "model_1 = LinearRegressionModelV0()\n",
    "model_1,model_1.state_dict()"
   ]
  },
  {
   "cell_type": "code",
   "execution_count": null,
   "metadata": {},
   "outputs": [],
   "source": []
  }
 ],
 "metadata": {
  "kernelspec": {
   "display_name": "env",
   "language": "python",
   "name": "python3"
  },
  "language_info": {
   "codemirror_mode": {
    "name": "ipython",
    "version": 3
   },
   "file_extension": ".py",
   "mimetype": "text/x-python",
   "name": "python",
   "nbconvert_exporter": "python",
   "pygments_lexer": "ipython3",
   "version": "3.12.3"
  }
 },
 "nbformat": 4,
 "nbformat_minor": 2
}
